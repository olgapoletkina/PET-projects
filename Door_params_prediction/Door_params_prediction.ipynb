{
  "cells": [
    {
      "cell_type": "code",
      "execution_count": null,
      "id": "6bfc711b-adb0-43ee-8bcf-7a6667d38089",
      "metadata": {
        "id": "6bfc711b-adb0-43ee-8bcf-7a6667d38089"
      },
      "outputs": [],
      "source": [
        "import pandas as pd\n",
        "import numpy as np\n",
        "\n",
        "import warnings\n",
        "import math\n",
        "\n",
        "from scipy.spatial.distance import pdist, squareform\n",
        "\n",
        "from datetime import datetime\n",
        "\n",
        "from statsmodels.tsa.seasonal import seasonal_decompose\n",
        "from statsmodels.graphics.tsaplots import plot_acf, plot_pacf, month_plot, quarter_plot\n",
        "\n",
        "import seaborn as sns\n",
        "import plotly.express as px\n",
        "import matplotlib.pyplot as plt\n",
        "\n",
        "from phik.report import plot_correlation_matrix\n",
        "from phik import report\n",
        "\n",
        "from sklearn.metrics import log_loss, classification_report, auc, roc_auc_score, roc_curve, confusion_matrix, ConfusionMatrixDisplay, f1_score\n",
        "from sklearn.model_selection import train_test_split\n",
        "from sklearn.preprocessing import OneHotEncoder\n",
        "from sklearn.compose import ColumnTransformer\n",
        "from sklearn.ensemble import RandomForestClassifier\n",
        "\n",
        "from catboost import CatBoostClassifier\n",
        "\n",
        "# import uuid\n",
        "import missingno as msno\n",
        "\n",
        "import hashlib\n",
        "\n",
        "import os\n",
        "\n",
        "import lightgbm as lgb\n",
        "from lightgbm import LGBMClassifier\n",
        "\n",
        "import warnings\n",
        "warnings.filterwarnings(\"ignore\")"
      ]
    },
    {
      "cell_type": "markdown",
      "id": "d81919c6-ffb2-47fa-88f5-72ebb3af750d",
      "metadata": {
        "id": "d81919c6-ffb2-47fa-88f5-72ebb3af750d"
      },
      "source": [
        "# Loading dataset"
      ]
    },
    {
      "cell_type": "code",
      "execution_count": null,
      "id": "2026318e-6ce0-4ac3-9956-47b73387a30d",
      "metadata": {
        "id": "2026318e-6ce0-4ac3-9956-47b73387a30d"
      },
      "outputs": [],
      "source": [
        "data = pd.read_csv('doors_data.csv')"
      ]
    },
    {
      "cell_type": "code",
      "execution_count": null,
      "id": "abe5f5a6-458e-4e7f-a5e8-d976cd2ead36",
      "metadata": {
        "id": "abe5f5a6-458e-4e7f-a5e8-d976cd2ead36",
        "outputId": "6ae57c17-1f3e-439b-f847-afe8c225de8c"
      },
      "outputs": [
        {
          "name": "stdout",
          "output_type": "stream",
          "text": [
            "<class 'pandas.core.frame.DataFrame'>\n",
            "RangeIndex: 3213 entries, 0 to 3212\n",
            "Data columns (total 19 columns):\n",
            " #   Column          Non-Null Count  Dtype  \n",
            "---  ------          --------------  -----  \n",
            " 0   Unnamed: 0      3213 non-null   int64  \n",
            " 1   floor           3213 non-null   object \n",
            " 2   door_type       3204 non-null   object \n",
            " 3   door_number     3211 non-null   object \n",
            " 4   door_leaf       3213 non-null   object \n",
            " 5   width           3213 non-null   float64\n",
            " 6   height          3213 non-null   float64\n",
            " 7   r_l_opening     3213 non-null   object \n",
            " 8   is_escape       3213 non-null   object \n",
            " 9   host_width      3213 non-null   float64\n",
            " 10  host_material   3213 non-null   object \n",
            " 11  from_room       3213 non-null   object \n",
            " 12  to_room         3213 non-null   object \n",
            " 13  from_room_area  3213 non-null   float64\n",
            " 14  to_room_area    3213 non-null   float64\n",
            " 15  frame_type      3196 non-null   object \n",
            " 16  frame_material  3213 non-null   object \n",
            " 17  frame_finish    3199 non-null   object \n",
            " 18  project         3213 non-null   object \n",
            "dtypes: float64(5), int64(1), object(13)\n",
            "memory usage: 477.1+ KB\n"
          ]
        }
      ],
      "source": [
        "data.info()"
      ]
    },
    {
      "cell_type": "markdown",
      "id": "01b3b734-90af-40f0-880b-a84d304d51f4",
      "metadata": {
        "id": "01b3b734-90af-40f0-880b-a84d304d51f4"
      },
      "source": [
        "# Features for training"
      ]
    },
    {
      "cell_type": "code",
      "execution_count": null,
      "id": "b995175b-9f8d-4481-9cbb-cc28443c4c8a",
      "metadata": {
        "id": "b995175b-9f8d-4481-9cbb-cc28443c4c8a"
      },
      "outputs": [],
      "source": [
        "feature_columns = [\n",
        "    'floor',\n",
        "    'door_leaf',\n",
        "    'width',\n",
        "    'height',\n",
        "    'r_l_opening',\n",
        "    'host_width',\n",
        "    'host_material',\n",
        "    'from_room',\n",
        "    'to_room',\n",
        "    'from_room_area',\n",
        "    'to_room_area',\n",
        "]"
      ]
    },
    {
      "cell_type": "code",
      "execution_count": null,
      "id": "39eda048-bfc9-441b-933d-30637dea0775",
      "metadata": {
        "id": "39eda048-bfc9-441b-933d-30637dea0775"
      },
      "outputs": [],
      "source": [
        "X = data[feature_columns].columns\n",
        "y = ['frame_material']"
      ]
    },
    {
      "cell_type": "markdown",
      "id": "846868a7-92f0-4a2e-8b89-25e46e7b4f8d",
      "metadata": {
        "id": "846868a7-92f0-4a2e-8b89-25e46e7b4f8d"
      },
      "source": [
        "# Categorical data"
      ]
    },
    {
      "cell_type": "code",
      "execution_count": null,
      "id": "c0795932-0232-4cb8-ad5c-5094ed2c7173",
      "metadata": {
        "id": "c0795932-0232-4cb8-ad5c-5094ed2c7173"
      },
      "outputs": [],
      "source": [
        "categorical = [\n",
        "    'floor',\n",
        "    'door_leaf',\n",
        "    'r_l_opening',\n",
        "    'host_material',\n",
        "    'from_room',\n",
        "    'to_room'\n",
        "]"
      ]
    },
    {
      "cell_type": "markdown",
      "id": "2a16396e-4945-44bb-af86-b46116184fab",
      "metadata": {
        "id": "2a16396e-4945-44bb-af86-b46116184fab"
      },
      "source": [
        "# Picking office buildings out of df"
      ]
    },
    {
      "cell_type": "code",
      "execution_count": null,
      "id": "58813811-d241-47fd-81a2-8a9af5532236",
      "metadata": {
        "id": "58813811-d241-47fd-81a2-8a9af5532236",
        "outputId": "855ccab1-5c5e-4e04-8093-f1f282d1a2a1"
      },
      "outputs": [
        {
          "data": {
            "text/plain": [
              "maf     889\n",
              "giz     770\n",
              "tam5    554\n",
              "hfmt    323\n",
              "sph     299\n",
              "ahq     257\n",
              "kap     121\n",
              "Name: project, dtype: int64"
            ]
          },
          "execution_count": 7,
          "metadata": {},
          "output_type": "execute_result"
        }
      ],
      "source": [
        "data['project'].value_counts()"
      ]
    },
    {
      "cell_type": "markdown",
      "id": "a787db21-c541-487a-a3b1-7d7b6313c172",
      "metadata": {
        "id": "a787db21-c541-487a-a3b1-7d7b6313c172"
      },
      "source": [
        "# Train - hfmt, giz, sph, ahq"
      ]
    },
    {
      "cell_type": "code",
      "execution_count": null,
      "id": "40add181-7b76-4a26-b58a-33568d03c907",
      "metadata": {
        "id": "40add181-7b76-4a26-b58a-33568d03c907"
      },
      "outputs": [],
      "source": [
        "office_train = data[(data['project']=='hfmt') |\n",
        "             (data['project']=='giz') |\n",
        "             (data['project']=='sph') |\n",
        "             (data['project']=='ahq')]"
      ]
    },
    {
      "cell_type": "markdown",
      "id": "3bcabe4d-5415-4b62-9a48-1b631bad92a5",
      "metadata": {
        "id": "3bcabe4d-5415-4b62-9a48-1b631bad92a5"
      },
      "source": [
        "### Projects distribution"
      ]
    },
    {
      "cell_type": "code",
      "execution_count": null,
      "id": "3595d6c0-2723-459c-a131-2b47b2f215a3",
      "metadata": {
        "id": "3595d6c0-2723-459c-a131-2b47b2f215a3",
        "outputId": "54d2d892-3ef1-48d1-9efd-4e0fce4a0ffc"
      },
      "outputs": [
        {
          "data": {
            "text/plain": [
              "giz     770\n",
              "hfmt    323\n",
              "sph     299\n",
              "ahq     257\n",
              "Name: project, dtype: int64"
            ]
          },
          "execution_count": 9,
          "metadata": {},
          "output_type": "execute_result"
        }
      ],
      "source": [
        "office_train['project'].value_counts()"
      ]
    },
    {
      "cell_type": "markdown",
      "id": "1e93f2bf-d7d5-43f2-a1de-bfe63e554153",
      "metadata": {
        "id": "1e93f2bf-d7d5-43f2-a1de-bfe63e554153"
      },
      "source": [
        "### Train - target data balance"
      ]
    },
    {
      "cell_type": "code",
      "execution_count": null,
      "id": "a9f9ff79-d173-426e-82bc-dadcf29ea14f",
      "metadata": {
        "id": "a9f9ff79-d173-426e-82bc-dadcf29ea14f",
        "outputId": "5b9ee8f8-8486-4440-cde2-9f077f8f57e1"
      },
      "outputs": [
        {
          "data": {
            "text/plain": [
              "S     1189\n",
              "A      366\n",
              "H       49\n",
              "gD      45\n",
              "Name: frame_material, dtype: int64"
            ]
          },
          "execution_count": 10,
          "metadata": {},
          "output_type": "execute_result"
        }
      ],
      "source": [
        "office_train['frame_material'].value_counts()"
      ]
    },
    {
      "cell_type": "markdown",
      "id": "420e1d5f-93bc-4aa3-a56a-7dec50016a2a",
      "metadata": {
        "id": "420e1d5f-93bc-4aa3-a56a-7dec50016a2a"
      },
      "source": [
        "### Train, val"
      ]
    },
    {
      "cell_type": "code",
      "execution_count": null,
      "id": "604e2fd5-5e5c-4031-980c-478f97bc387c",
      "metadata": {
        "id": "604e2fd5-5e5c-4031-980c-478f97bc387c",
        "outputId": "2a4cc763-04bf-4797-f676-bef083fab740"
      },
      "outputs": [
        {
          "name": "stdout",
          "output_type": "stream",
          "text": [
            "(330, 19)\n",
            "(1319, 19)\n"
          ]
        }
      ],
      "source": [
        "train, val = train_test_split(office_train,\n",
        "                            train_size=0.8,\n",
        "                            random_state=42,\n",
        "                            stratify=office_train['frame_material'])\n",
        "print(val.shape)\n",
        "print(train.shape)"
      ]
    },
    {
      "cell_type": "code",
      "execution_count": null,
      "id": "e198bc83-0ac2-4d0e-b309-eda98344e331",
      "metadata": {
        "id": "e198bc83-0ac2-4d0e-b309-eda98344e331"
      },
      "outputs": [],
      "source": [
        "# train.info()"
      ]
    },
    {
      "cell_type": "markdown",
      "id": "03f0f9e8-20a5-43a8-8292-421881b57b9a",
      "metadata": {
        "id": "03f0f9e8-20a5-43a8-8292-421881b57b9a"
      },
      "source": [
        "# Test - tam5"
      ]
    },
    {
      "cell_type": "code",
      "execution_count": null,
      "id": "c9109f01-7780-48bc-bb06-1b80f3d88105",
      "metadata": {
        "id": "c9109f01-7780-48bc-bb06-1b80f3d88105"
      },
      "outputs": [],
      "source": [
        "test = data[data['project']=='tam5']"
      ]
    },
    {
      "cell_type": "markdown",
      "id": "6cd531ae-16ff-47eb-8559-1a04ce1dfbcd",
      "metadata": {
        "id": "6cd531ae-16ff-47eb-8559-1a04ce1dfbcd"
      },
      "source": [
        "### Test - target data balance"
      ]
    },
    {
      "cell_type": "code",
      "execution_count": null,
      "id": "618618df-4c25-457e-b9c1-315b0dced5cf",
      "metadata": {
        "id": "618618df-4c25-457e-b9c1-315b0dced5cf",
        "outputId": "76fe7ba3-1b8f-457e-ce00-193609213419"
      },
      "outputs": [
        {
          "data": {
            "text/plain": [
              "S    458\n",
              "A     96\n",
              "Name: frame_material, dtype: int64"
            ]
          },
          "execution_count": 14,
          "metadata": {},
          "output_type": "execute_result"
        }
      ],
      "source": [
        "test['frame_material'].value_counts()"
      ]
    },
    {
      "cell_type": "markdown",
      "id": "4616da63-9c51-46a7-af7b-2ffd1c8ef0b7",
      "metadata": {
        "id": "4616da63-9c51-46a7-af7b-2ffd1c8ef0b7"
      },
      "source": [
        "# Train-Test check"
      ]
    },
    {
      "cell_type": "code",
      "execution_count": null,
      "id": "c88c6717-6a94-4fee-8cf6-457418b9c973",
      "metadata": {
        "id": "c88c6717-6a94-4fee-8cf6-457418b9c973",
        "outputId": "3341a087-b28e-4965-a1e8-244a3853655e"
      },
      "outputs": [
        {
          "name": "stdout",
          "output_type": "stream",
          "text": [
            "<class 'pandas.core.frame.DataFrame'>\n",
            "Int64Index: 1319 entries, 1026 to 2173\n",
            "Data columns (total 11 columns):\n",
            " #   Column          Non-Null Count  Dtype  \n",
            "---  ------          --------------  -----  \n",
            " 0   floor           1319 non-null   object \n",
            " 1   door_leaf       1319 non-null   object \n",
            " 2   width           1319 non-null   float64\n",
            " 3   height          1319 non-null   float64\n",
            " 4   r_l_opening     1319 non-null   object \n",
            " 5   host_width      1319 non-null   float64\n",
            " 6   host_material   1319 non-null   object \n",
            " 7   from_room       1319 non-null   object \n",
            " 8   to_room         1319 non-null   object \n",
            " 9   from_room_area  1319 non-null   float64\n",
            " 10  to_room_area    1319 non-null   float64\n",
            "dtypes: float64(5), object(6)\n",
            "memory usage: 123.7+ KB\n"
          ]
        }
      ],
      "source": [
        "train[X].info()"
      ]
    },
    {
      "cell_type": "code",
      "execution_count": null,
      "id": "806a529b-090d-4dd6-8483-6aae8ea97498",
      "metadata": {
        "id": "806a529b-090d-4dd6-8483-6aae8ea97498",
        "outputId": "0dd942b2-60c4-44d7-e530-a79ee19c9d6b"
      },
      "outputs": [
        {
          "name": "stdout",
          "output_type": "stream",
          "text": [
            "<class 'pandas.core.frame.DataFrame'>\n",
            "Int64Index: 1319 entries, 1026 to 2173\n",
            "Data columns (total 1 columns):\n",
            " #   Column          Non-Null Count  Dtype \n",
            "---  ------          --------------  ----- \n",
            " 0   frame_material  1319 non-null   object\n",
            "dtypes: object(1)\n",
            "memory usage: 20.6+ KB\n"
          ]
        }
      ],
      "source": [
        "train[y].info()"
      ]
    },
    {
      "cell_type": "markdown",
      "id": "006fa000-a782-4f08-ac07-d494910bfc76",
      "metadata": {
        "id": "006fa000-a782-4f08-ac07-d494910bfc76"
      },
      "source": [
        "# Model_tam5 Catboost"
      ]
    },
    {
      "cell_type": "code",
      "execution_count": null,
      "id": "1aff6c92-017c-4e37-aea3-01c7b9e74138",
      "metadata": {
        "id": "1aff6c92-017c-4e37-aea3-01c7b9e74138"
      },
      "outputs": [],
      "source": [
        "params_tam5 = {'verbose':100,\n",
        "               'random_seed':42,\n",
        "               'cat_features': categorical,\n",
        "               'learning_rate':0.15}"
      ]
    },
    {
      "cell_type": "code",
      "execution_count": null,
      "id": "99478606-0d10-4ccd-82d8-73d861ab88eb",
      "metadata": {
        "id": "99478606-0d10-4ccd-82d8-73d861ab88eb"
      },
      "outputs": [],
      "source": [
        "model_tam5 = CatBoostClassifier(**params_tam5)"
      ]
    },
    {
      "cell_type": "code",
      "execution_count": null,
      "id": "577c8854-b0c3-433c-84cc-9d9bfdf7032a",
      "metadata": {
        "id": "577c8854-b0c3-433c-84cc-9d9bfdf7032a",
        "outputId": "635d384f-9177-43e8-f3e5-72765ea4ac4b"
      },
      "outputs": [
        {
          "name": "stdout",
          "output_type": "stream",
          "text": [
            "0:\tlearn: 1.1094391\ttest: 1.1182010\tbest: 1.1182010 (0)\ttotal: 166ms\tremaining: 2m 45s\n",
            "100:\tlearn: 0.0388554\ttest: 0.0763502\tbest: 0.0763502 (100)\ttotal: 4.27s\tremaining: 38s\n",
            "200:\tlearn: 0.0188184\ttest: 0.0652296\tbest: 0.0652104 (197)\ttotal: 8.34s\tremaining: 33.1s\n",
            "300:\tlearn: 0.0116480\ttest: 0.0618312\tbest: 0.0614894 (263)\ttotal: 12.3s\tremaining: 28.6s\n",
            "400:\tlearn: 0.0083787\ttest: 0.0604196\tbest: 0.0603510 (387)\ttotal: 16.1s\tremaining: 24.1s\n",
            "500:\tlearn: 0.0060946\ttest: 0.0599847\tbest: 0.0598735 (493)\ttotal: 20.1s\tremaining: 20s\n",
            "600:\tlearn: 0.0047886\ttest: 0.0600875\tbest: 0.0594887 (568)\ttotal: 24s\tremaining: 15.9s\n",
            "700:\tlearn: 0.0039749\ttest: 0.0601915\tbest: 0.0594887 (568)\ttotal: 27.9s\tremaining: 11.9s\n",
            "800:\tlearn: 0.0033458\ttest: 0.0597371\tbest: 0.0594416 (774)\ttotal: 31.7s\tremaining: 7.87s\n",
            "900:\tlearn: 0.0028977\ttest: 0.0592884\tbest: 0.0592077 (869)\ttotal: 35.5s\tremaining: 3.9s\n",
            "999:\tlearn: 0.0025619\ttest: 0.0590683\tbest: 0.0589460 (984)\ttotal: 39.3s\tremaining: 0us\n",
            "\n",
            "bestTest = 0.05894602027\n",
            "bestIteration = 984\n",
            "\n",
            "Shrink model to first 985 iterations.\n"
          ]
        },
        {
          "data": {
            "text/plain": [
              "<catboost.core.CatBoostClassifier at 0x1d30fc057f0>"
            ]
          },
          "execution_count": 19,
          "metadata": {},
          "output_type": "execute_result"
        }
      ],
      "source": [
        "model_tam5.fit(train[X],train[y],eval_set=(val[X],val[y]))"
      ]
    },
    {
      "cell_type": "code",
      "execution_count": null,
      "id": "8ce1496d-8ecf-4b62-ae7d-7ef20087468d",
      "metadata": {
        "id": "8ce1496d-8ecf-4b62-ae7d-7ef20087468d",
        "outputId": "17d52da0-b140-4647-bda4-7d8f4e361da6"
      },
      "outputs": [
        {
          "data": {
            "text/html": [
              "<div>\n",
              "<style scoped>\n",
              "    .dataframe tbody tr th:only-of-type {\n",
              "        vertical-align: middle;\n",
              "    }\n",
              "\n",
              "    .dataframe tbody tr th {\n",
              "        vertical-align: top;\n",
              "    }\n",
              "\n",
              "    .dataframe thead th {\n",
              "        text-align: right;\n",
              "    }\n",
              "</style>\n",
              "<table border=\"1\" class=\"dataframe\">\n",
              "  <thead>\n",
              "    <tr style=\"text-align: right;\">\n",
              "      <th></th>\n",
              "      <th>Feature Id</th>\n",
              "      <th>Importances</th>\n",
              "    </tr>\n",
              "  </thead>\n",
              "  <tbody>\n",
              "    <tr>\n",
              "      <th>0</th>\n",
              "      <td>height</td>\n",
              "      <td>29.289944</td>\n",
              "    </tr>\n",
              "    <tr>\n",
              "      <th>1</th>\n",
              "      <td>width</td>\n",
              "      <td>17.007996</td>\n",
              "    </tr>\n",
              "    <tr>\n",
              "      <th>2</th>\n",
              "      <td>from_room</td>\n",
              "      <td>10.931501</td>\n",
              "    </tr>\n",
              "    <tr>\n",
              "      <th>3</th>\n",
              "      <td>host_material</td>\n",
              "      <td>7.974467</td>\n",
              "    </tr>\n",
              "    <tr>\n",
              "      <th>4</th>\n",
              "      <td>to_room</td>\n",
              "      <td>7.422227</td>\n",
              "    </tr>\n",
              "    <tr>\n",
              "      <th>5</th>\n",
              "      <td>floor</td>\n",
              "      <td>6.392318</td>\n",
              "    </tr>\n",
              "    <tr>\n",
              "      <th>6</th>\n",
              "      <td>door_leaf</td>\n",
              "      <td>6.109339</td>\n",
              "    </tr>\n",
              "    <tr>\n",
              "      <th>7</th>\n",
              "      <td>to_room_area</td>\n",
              "      <td>4.737127</td>\n",
              "    </tr>\n",
              "    <tr>\n",
              "      <th>8</th>\n",
              "      <td>host_width</td>\n",
              "      <td>4.521277</td>\n",
              "    </tr>\n",
              "    <tr>\n",
              "      <th>9</th>\n",
              "      <td>from_room_area</td>\n",
              "      <td>3.630189</td>\n",
              "    </tr>\n",
              "    <tr>\n",
              "      <th>10</th>\n",
              "      <td>r_l_opening</td>\n",
              "      <td>1.983614</td>\n",
              "    </tr>\n",
              "  </tbody>\n",
              "</table>\n",
              "</div>"
            ],
            "text/plain": [
              "        Feature Id  Importances\n",
              "0           height    29.289944\n",
              "1            width    17.007996\n",
              "2        from_room    10.931501\n",
              "3    host_material     7.974467\n",
              "4          to_room     7.422227\n",
              "5            floor     6.392318\n",
              "6        door_leaf     6.109339\n",
              "7     to_room_area     4.737127\n",
              "8       host_width     4.521277\n",
              "9   from_room_area     3.630189\n",
              "10     r_l_opening     1.983614"
            ]
          },
          "execution_count": 20,
          "metadata": {},
          "output_type": "execute_result"
        }
      ],
      "source": [
        "model_tam5.get_feature_importance(prettified=True)"
      ]
    },
    {
      "cell_type": "markdown",
      "id": "78ee60fa-5423-4d13-a9e7-44e1b846c638",
      "metadata": {
        "id": "78ee60fa-5423-4d13-a9e7-44e1b846c638"
      },
      "source": [
        "### Prediction"
      ]
    },
    {
      "cell_type": "code",
      "execution_count": null,
      "id": "f86a7c84-00c9-480f-8b3a-2a0bfd15d297",
      "metadata": {
        "id": "f86a7c84-00c9-480f-8b3a-2a0bfd15d297"
      },
      "outputs": [],
      "source": [
        "test['prediction_frame_material'] = model_tam5.predict(test[X]).ravel()"
      ]
    },
    {
      "cell_type": "code",
      "execution_count": null,
      "id": "9de390fe-aa13-47fe-b842-f059bb381b4e",
      "metadata": {
        "id": "9de390fe-aa13-47fe-b842-f059bb381b4e",
        "outputId": "43dd50c8-0d7c-4e0c-d4f4-5f6b8eb125bc"
      },
      "outputs": [
        {
          "data": {
            "text/html": [
              "<div>\n",
              "<style scoped>\n",
              "    .dataframe tbody tr th:only-of-type {\n",
              "        vertical-align: middle;\n",
              "    }\n",
              "\n",
              "    .dataframe tbody tr th {\n",
              "        vertical-align: top;\n",
              "    }\n",
              "\n",
              "    .dataframe thead th {\n",
              "        text-align: right;\n",
              "    }\n",
              "</style>\n",
              "<table border=\"1\" class=\"dataframe\">\n",
              "  <thead>\n",
              "    <tr style=\"text-align: right;\">\n",
              "      <th></th>\n",
              "      <th>frame_material</th>\n",
              "      <th>prediction_frame_material</th>\n",
              "      <th>project</th>\n",
              "    </tr>\n",
              "  </thead>\n",
              "  <tbody>\n",
              "    <tr>\n",
              "      <th>1093</th>\n",
              "      <td>S</td>\n",
              "      <td>S</td>\n",
              "      <td>tam5</td>\n",
              "    </tr>\n",
              "    <tr>\n",
              "      <th>1094</th>\n",
              "      <td>S</td>\n",
              "      <td>S</td>\n",
              "      <td>tam5</td>\n",
              "    </tr>\n",
              "    <tr>\n",
              "      <th>1095</th>\n",
              "      <td>S</td>\n",
              "      <td>S</td>\n",
              "      <td>tam5</td>\n",
              "    </tr>\n",
              "    <tr>\n",
              "      <th>1096</th>\n",
              "      <td>S</td>\n",
              "      <td>S</td>\n",
              "      <td>tam5</td>\n",
              "    </tr>\n",
              "    <tr>\n",
              "      <th>1097</th>\n",
              "      <td>S</td>\n",
              "      <td>S</td>\n",
              "      <td>tam5</td>\n",
              "    </tr>\n",
              "    <tr>\n",
              "      <th>...</th>\n",
              "      <td>...</td>\n",
              "      <td>...</td>\n",
              "      <td>...</td>\n",
              "    </tr>\n",
              "    <tr>\n",
              "      <th>1642</th>\n",
              "      <td>S</td>\n",
              "      <td>S</td>\n",
              "      <td>tam5</td>\n",
              "    </tr>\n",
              "    <tr>\n",
              "      <th>1643</th>\n",
              "      <td>S</td>\n",
              "      <td>S</td>\n",
              "      <td>tam5</td>\n",
              "    </tr>\n",
              "    <tr>\n",
              "      <th>1644</th>\n",
              "      <td>S</td>\n",
              "      <td>S</td>\n",
              "      <td>tam5</td>\n",
              "    </tr>\n",
              "    <tr>\n",
              "      <th>1645</th>\n",
              "      <td>S</td>\n",
              "      <td>S</td>\n",
              "      <td>tam5</td>\n",
              "    </tr>\n",
              "    <tr>\n",
              "      <th>1646</th>\n",
              "      <td>S</td>\n",
              "      <td>S</td>\n",
              "      <td>tam5</td>\n",
              "    </tr>\n",
              "  </tbody>\n",
              "</table>\n",
              "<p>554 rows × 3 columns</p>\n",
              "</div>"
            ],
            "text/plain": [
              "     frame_material prediction_frame_material project\n",
              "1093              S                         S    tam5\n",
              "1094              S                         S    tam5\n",
              "1095              S                         S    tam5\n",
              "1096              S                         S    tam5\n",
              "1097              S                         S    tam5\n",
              "...             ...                       ...     ...\n",
              "1642              S                         S    tam5\n",
              "1643              S                         S    tam5\n",
              "1644              S                         S    tam5\n",
              "1645              S                         S    tam5\n",
              "1646              S                         S    tam5\n",
              "\n",
              "[554 rows x 3 columns]"
            ]
          },
          "execution_count": 22,
          "metadata": {},
          "output_type": "execute_result"
        }
      ],
      "source": [
        "test[['frame_material', 'prediction_frame_material', 'project']]"
      ]
    },
    {
      "cell_type": "code",
      "execution_count": null,
      "id": "3999811d-2b35-4cb6-8406-9d9931bc105e",
      "metadata": {
        "id": "3999811d-2b35-4cb6-8406-9d9931bc105e",
        "outputId": "baa7d9cc-805d-4c3d-c8d5-bd5d3b225860"
      },
      "outputs": [
        {
          "data": {
            "text/plain": [
              "S    461\n",
              "A     93\n",
              "Name: prediction_frame_material, dtype: int64"
            ]
          },
          "execution_count": 23,
          "metadata": {},
          "output_type": "execute_result"
        }
      ],
      "source": [
        "test['prediction_frame_material'].value_counts()"
      ]
    },
    {
      "cell_type": "markdown",
      "id": "11e15098-967b-4ed8-bcfa-f9069aa66e68",
      "metadata": {
        "id": "11e15098-967b-4ed8-bcfa-f9069aa66e68"
      },
      "source": [
        "### Number of mismatches"
      ]
    },
    {
      "cell_type": "code",
      "execution_count": null,
      "id": "78eb25e0-241a-4726-8efb-73ce4a8dbcae",
      "metadata": {
        "id": "78eb25e0-241a-4726-8efb-73ce4a8dbcae",
        "outputId": "a3cce698-ac68-4b22-8b96-aa648a2b8691"
      },
      "outputs": [
        {
          "name": "stdout",
          "output_type": "stream",
          "text": [
            "97.29% of predictions are correct,while using train data = 1319\n"
          ]
        }
      ],
      "source": [
        "mismatch_count_tam5 = (test['prediction_frame_material'] != test['frame_material']).sum()\n",
        "score_tam5 = round(mismatch_count_tam5/len(test)*100, 2)\n",
        "print(f'{100 - round(mismatch_count_tam5/len(test)*100, 2)}% of predictions are correct,\\\n",
        "while using train data = {len(train)}')"
      ]
    },
    {
      "cell_type": "markdown",
      "id": "4d62651d-f96b-4f94-97ce-d3db814b646a",
      "metadata": {
        "id": "4d62651d-f96b-4f94-97ce-d3db814b646a"
      },
      "source": [
        "### F1 score"
      ]
    },
    {
      "cell_type": "code",
      "execution_count": null,
      "id": "d45c8218-7d2a-4640-b758-48bbc2b35172",
      "metadata": {
        "id": "d45c8218-7d2a-4640-b758-48bbc2b35172",
        "outputId": "fa1053c3-97f6-4571-db6f-075bfa12056c"
      },
      "outputs": [
        {
          "data": {
            "text/plain": [
              "0.9729241877256317"
            ]
          },
          "execution_count": 25,
          "metadata": {},
          "output_type": "execute_result"
        }
      ],
      "source": [
        "f1_score(test['frame_material'], test['prediction_frame_material'], average='micro')"
      ]
    },
    {
      "cell_type": "markdown",
      "id": "62922d2d-d964-432a-a2bf-727265938187",
      "metadata": {
        "id": "62922d2d-d964-432a-a2bf-727265938187"
      },
      "source": [
        "### Confusion matrix"
      ]
    },
    {
      "cell_type": "code",
      "execution_count": null,
      "id": "425d2b75-445e-49ca-81b2-249e9caaef0d",
      "metadata": {
        "id": "425d2b75-445e-49ca-81b2-249e9caaef0d",
        "outputId": "f7231981-8255-428f-e848-80a8a774b747"
      },
      "outputs": [
        {
          "data": {
            "image/png": "[encoded data removed]",
            "text/plain": [
              "<Figure size 400x400 with 1 Axes>"
            ]
          },
          "metadata": {},
          "output_type": "display_data"
        }
      ],
      "source": [
        "conf_matrix = confusion_matrix(test['frame_material'],\n",
        "                               test['prediction_frame_material'])\n",
        "\n",
        "plt.figure(figsize=(4, 4))\n",
        "sns.set(font_scale=1.2)\n",
        "sns.heatmap(conf_matrix, annot=True, fmt=\"d\", cmap=\"Blues\", cbar=False,\n",
        "            xticklabels=[\"A\", \"S\"],\n",
        "            yticklabels=[\"A\", \"S\"])\n",
        "plt.xlabel(\"Predicted Labels\")\n",
        "plt.ylabel(\"True Labels\")\n",
        "plt.title(\"Confusion Matrix\")\n",
        "plt.show()"
      ]
    },
    {
      "cell_type": "markdown",
      "id": "5091c687-e4db-45f0-997a-e5d8c198dec5",
      "metadata": {
        "id": "5091c687-e4db-45f0-997a-e5d8c198dec5"
      },
      "source": [
        "# Model_tam5 LightGBM"
      ]
    },
    {
      "cell_type": "code",
      "execution_count": null,
      "id": "4a735566-16f3-46fb-9291-03597a2ee5cc",
      "metadata": {
        "id": "4a735566-16f3-46fb-9291-03597a2ee5cc",
        "outputId": "1535da0c-3403-48e1-db99-379080a1f9ed"
      },
      "outputs": [
        {
          "name": "stdout",
          "output_type": "stream",
          "text": [
            "<class 'pandas.core.frame.DataFrame'>\n",
            "Int64Index: 330 entries, 777 to 89\n",
            "Data columns (total 6 columns):\n",
            " #   Column         Non-Null Count  Dtype   \n",
            "---  ------         --------------  -----   \n",
            " 0   floor          330 non-null    category\n",
            " 1   door_leaf      330 non-null    category\n",
            " 2   r_l_opening    330 non-null    category\n",
            " 3   host_material  330 non-null    category\n",
            " 4   from_room      330 non-null    category\n",
            " 5   to_room        330 non-null    category\n",
            "dtypes: category(6)\n",
            "memory usage: 10.7 KB\n"
          ]
        }
      ],
      "source": [
        "for col in categorical:\n",
        "    train[col] = train[col].astype('category')\n",
        "    test[col] = test[col].astype('category')\n",
        "    val[col] = val[col].astype('category')\n",
        "\n",
        "val[categorical].info()"
      ]
    },
    {
      "cell_type": "code",
      "execution_count": null,
      "id": "24efa4a1-f734-45af-aa25-91b4227a8874",
      "metadata": {
        "id": "24efa4a1-f734-45af-aa25-91b4227a8874"
      },
      "outputs": [],
      "source": [
        "params_tam5 = {'verbose':-1,\n",
        "               'random_state':42,\n",
        "               'categorical_feature': categorical,\n",
        "               'learning_rate':0.05,\n",
        "               'n_estimators': 100\n",
        "              }"
      ]
    },
    {
      "cell_type": "code",
      "execution_count": null,
      "id": "e6107637-1f63-4c75-ba99-499ba2346bf8",
      "metadata": {
        "id": "e6107637-1f63-4c75-ba99-499ba2346bf8"
      },
      "outputs": [],
      "source": [
        "model_tam5 = LGBMClassifier(**params_tam5)"
      ]
    },
    {
      "cell_type": "code",
      "execution_count": null,
      "id": "1e62e236-1c1c-46ac-b896-849ef7d62b29",
      "metadata": {
        "id": "1e62e236-1c1c-46ac-b896-849ef7d62b29",
        "outputId": "5ff1b296-53c2-4cb4-f5ff-ee75cfc7e5ea"
      },
      "outputs": [
        {
          "name": "stderr",
          "output_type": "stream",
          "text": [
            "Exception in thread Thread-6:\n",
            "Traceback (most recent call last):\n",
            "  File \"C:\\Users\\Olga.Poletkina\\AppData\\Local\\anaconda3\\envs\\ds_practicum_env\\lib\\threading.py\", line 980, in _bootstrap_inner\n",
            "    self.run()\n",
            "  File \"C:\\Users\\Olga.Poletkina\\AppData\\Local\\anaconda3\\envs\\ds_practicum_env\\lib\\site-packages\\ipykernel\\ipkernel.py\", line 761, in run_closure\n",
            "    _threading_Thread_run(self)\n",
            "  File \"C:\\Users\\Olga.Poletkina\\AppData\\Local\\anaconda3\\envs\\ds_practicum_env\\lib\\threading.py\", line 917, in run\n",
            "    self._target(*self._args, **self._kwargs)\n",
            "  File \"C:\\Users\\Olga.Poletkina\\AppData\\Local\\anaconda3\\envs\\ds_practicum_env\\lib\\subprocess.py\", line 1495, in _readerthread\n",
            "    buffer.append(fh.read())\n",
            "  File \"C:\\Users\\Olga.Poletkina\\AppData\\Local\\anaconda3\\envs\\ds_practicum_env\\lib\\encodings\\cp1252.py\", line 23, in decode\n",
            "    return codecs.charmap_decode(input,self.errors,decoding_table)[0]\n",
            "UnicodeDecodeError: 'charmap' codec can't decode byte 0x81 in position 3: character maps to <undefined>\n",
            "  File \"C:\\Users\\Olga.Poletkina\\AppData\\Local\\anaconda3\\envs\\ds_practicum_env\\lib\\site-packages\\joblib\\externals\\loky\\backend\\context.py\", line 282, in _count_physical_cores\n",
            "    raise ValueError(f\"found {cpu_count_physical} physical cores < 1\")\n"
          ]
        },
        {
          "data": {
            "text/plain": [
              "LGBMClassifier(categorical_feature=['floor', 'door_leaf', 'r_l_opening',\n",
              "                                    'host_material', 'from_room', 'to_room'],\n",
              "               learning_rate=0.05, random_state=42, verbose=-1)"
            ]
          },
          "execution_count": 30,
          "metadata": {},
          "output_type": "execute_result"
        }
      ],
      "source": [
        "model_tam5.fit(train[X],train[y].values.ravel() ,eval_set=[(val[X],val[y].values.ravel())])"
      ]
    },
    {
      "cell_type": "code",
      "execution_count": null,
      "id": "35845abb-f114-4dbd-99a8-4d43cde24ac8",
      "metadata": {
        "id": "35845abb-f114-4dbd-99a8-4d43cde24ac8",
        "outputId": "e6c90c15-b371-4d10-e437-786273485135"
      },
      "outputs": [
        {
          "data": {
            "text/html": [
              "<div>\n",
              "<style scoped>\n",
              "    .dataframe tbody tr th:only-of-type {\n",
              "        vertical-align: middle;\n",
              "    }\n",
              "\n",
              "    .dataframe tbody tr th {\n",
              "        vertical-align: top;\n",
              "    }\n",
              "\n",
              "    .dataframe thead th {\n",
              "        text-align: right;\n",
              "    }\n",
              "</style>\n",
              "<table border=\"1\" class=\"dataframe\">\n",
              "  <thead>\n",
              "    <tr style=\"text-align: right;\">\n",
              "      <th></th>\n",
              "      <th>Feature Name</th>\n",
              "      <th>Importance (Split)</th>\n",
              "      <th>Importance (%)</th>\n",
              "    </tr>\n",
              "  </thead>\n",
              "  <tbody>\n",
              "    <tr>\n",
              "      <th>0</th>\n",
              "      <td>width</td>\n",
              "      <td>2681</td>\n",
              "      <td>22.459579</td>\n",
              "    </tr>\n",
              "    <tr>\n",
              "      <th>1</th>\n",
              "      <td>from_room_area</td>\n",
              "      <td>2382</td>\n",
              "      <td>19.954763</td>\n",
              "    </tr>\n",
              "    <tr>\n",
              "      <th>2</th>\n",
              "      <td>to_room_area</td>\n",
              "      <td>2176</td>\n",
              "      <td>18.229036</td>\n",
              "    </tr>\n",
              "    <tr>\n",
              "      <th>3</th>\n",
              "      <td>height</td>\n",
              "      <td>2076</td>\n",
              "      <td>17.391304</td>\n",
              "    </tr>\n",
              "    <tr>\n",
              "      <th>4</th>\n",
              "      <td>host_width</td>\n",
              "      <td>1968</td>\n",
              "      <td>16.486554</td>\n",
              "    </tr>\n",
              "    <tr>\n",
              "      <th>5</th>\n",
              "      <td>r_l_opening</td>\n",
              "      <td>511</td>\n",
              "      <td>4.280808</td>\n",
              "    </tr>\n",
              "    <tr>\n",
              "      <th>6</th>\n",
              "      <td>to_room</td>\n",
              "      <td>67</td>\n",
              "      <td>0.561280</td>\n",
              "    </tr>\n",
              "    <tr>\n",
              "      <th>7</th>\n",
              "      <td>from_room</td>\n",
              "      <td>59</td>\n",
              "      <td>0.494262</td>\n",
              "    </tr>\n",
              "    <tr>\n",
              "      <th>8</th>\n",
              "      <td>floor</td>\n",
              "      <td>13</td>\n",
              "      <td>0.108905</td>\n",
              "    </tr>\n",
              "    <tr>\n",
              "      <th>9</th>\n",
              "      <td>door_leaf</td>\n",
              "      <td>4</td>\n",
              "      <td>0.033509</td>\n",
              "    </tr>\n",
              "    <tr>\n",
              "      <th>10</th>\n",
              "      <td>host_material</td>\n",
              "      <td>0</td>\n",
              "      <td>0.000000</td>\n",
              "    </tr>\n",
              "  </tbody>\n",
              "</table>\n",
              "</div>"
            ],
            "text/plain": [
              "      Feature Name  Importance (Split)  Importance (%)\n",
              "0            width                2681       22.459579\n",
              "1   from_room_area                2382       19.954763\n",
              "2     to_room_area                2176       18.229036\n",
              "3           height                2076       17.391304\n",
              "4       host_width                1968       16.486554\n",
              "5      r_l_opening                 511        4.280808\n",
              "6          to_room                  67        0.561280\n",
              "7        from_room                  59        0.494262\n",
              "8            floor                  13        0.108905\n",
              "9        door_leaf                   4        0.033509\n",
              "10   host_material                   0        0.000000"
            ]
          },
          "execution_count": 31,
          "metadata": {},
          "output_type": "execute_result"
        }
      ],
      "source": [
        "'''lgb.plot_importance(model, importance_type=”split”, figsize=(7, 6), title=”LightGBM Feature Importance (Split)”)\n",
        "creates a feature importance plot based on the ‘split’ metric. This metric measures how often a feature is used to\n",
        "split the data in decision trees during training, which helps assess the feature’s importance in making decisions.'''\n",
        "\n",
        "feature_importances = model_tam5.feature_importances_\n",
        "feature_names = model_tam5.feature_name_\n",
        "df_feature_importances = pd.DataFrame({\n",
        "    'Feature Name': feature_names,\n",
        "    'Importance (Split)': feature_importances\n",
        "})\n",
        "df_feature_importances = df_feature_importances.sort_values(by='Importance (Split)', ascending=False).reset_index(drop=True)\n",
        "\n",
        "total_importance = df_feature_importances['Importance (Split)'].sum()\n",
        "df_feature_importances['Importance (%)'] = (df_feature_importances['Importance (Split)'] / total_importance) * 100\n",
        "\n",
        "df_feature_importances"
      ]
    },
    {
      "cell_type": "markdown",
      "id": "a3bbfe25-77f9-4905-bcc2-9cf392224245",
      "metadata": {
        "id": "a3bbfe25-77f9-4905-bcc2-9cf392224245"
      },
      "source": [
        "### Prediction"
      ]
    },
    {
      "cell_type": "code",
      "execution_count": null,
      "id": "9885bb72-1cb7-4d9b-bda6-e5298dfa62da",
      "metadata": {
        "id": "9885bb72-1cb7-4d9b-bda6-e5298dfa62da"
      },
      "outputs": [],
      "source": [
        "test['prediction_frame_material_lgbm'] = model_tam5.predict(test[X]).ravel()"
      ]
    },
    {
      "cell_type": "code",
      "execution_count": null,
      "id": "767024c5-26ed-4cae-8ddd-7eaf58c8792c",
      "metadata": {
        "id": "767024c5-26ed-4cae-8ddd-7eaf58c8792c",
        "outputId": "43d81322-0ebf-4244-e479-ba53f1185cfb"
      },
      "outputs": [
        {
          "data": {
            "text/html": [
              "<div>\n",
              "<style scoped>\n",
              "    .dataframe tbody tr th:only-of-type {\n",
              "        vertical-align: middle;\n",
              "    }\n",
              "\n",
              "    .dataframe tbody tr th {\n",
              "        vertical-align: top;\n",
              "    }\n",
              "\n",
              "    .dataframe thead th {\n",
              "        text-align: right;\n",
              "    }\n",
              "</style>\n",
              "<table border=\"1\" class=\"dataframe\">\n",
              "  <thead>\n",
              "    <tr style=\"text-align: right;\">\n",
              "      <th></th>\n",
              "      <th>frame_material</th>\n",
              "      <th>prediction_frame_material</th>\n",
              "      <th>prediction_frame_material_lgbm</th>\n",
              "      <th>project</th>\n",
              "    </tr>\n",
              "  </thead>\n",
              "  <tbody>\n",
              "    <tr>\n",
              "      <th>1093</th>\n",
              "      <td>S</td>\n",
              "      <td>S</td>\n",
              "      <td>S</td>\n",
              "      <td>tam5</td>\n",
              "    </tr>\n",
              "    <tr>\n",
              "      <th>1094</th>\n",
              "      <td>S</td>\n",
              "      <td>S</td>\n",
              "      <td>S</td>\n",
              "      <td>tam5</td>\n",
              "    </tr>\n",
              "    <tr>\n",
              "      <th>1095</th>\n",
              "      <td>S</td>\n",
              "      <td>S</td>\n",
              "      <td>S</td>\n",
              "      <td>tam5</td>\n",
              "    </tr>\n",
              "    <tr>\n",
              "      <th>1096</th>\n",
              "      <td>S</td>\n",
              "      <td>S</td>\n",
              "      <td>S</td>\n",
              "      <td>tam5</td>\n",
              "    </tr>\n",
              "    <tr>\n",
              "      <th>1097</th>\n",
              "      <td>S</td>\n",
              "      <td>S</td>\n",
              "      <td>S</td>\n",
              "      <td>tam5</td>\n",
              "    </tr>\n",
              "    <tr>\n",
              "      <th>...</th>\n",
              "      <td>...</td>\n",
              "      <td>...</td>\n",
              "      <td>...</td>\n",
              "      <td>...</td>\n",
              "    </tr>\n",
              "    <tr>\n",
              "      <th>1642</th>\n",
              "      <td>S</td>\n",
              "      <td>S</td>\n",
              "      <td>S</td>\n",
              "      <td>tam5</td>\n",
              "    </tr>\n",
              "    <tr>\n",
              "      <th>1643</th>\n",
              "      <td>S</td>\n",
              "      <td>S</td>\n",
              "      <td>S</td>\n",
              "      <td>tam5</td>\n",
              "    </tr>\n",
              "    <tr>\n",
              "      <th>1644</th>\n",
              "      <td>S</td>\n",
              "      <td>S</td>\n",
              "      <td>S</td>\n",
              "      <td>tam5</td>\n",
              "    </tr>\n",
              "    <tr>\n",
              "      <th>1645</th>\n",
              "      <td>S</td>\n",
              "      <td>S</td>\n",
              "      <td>S</td>\n",
              "      <td>tam5</td>\n",
              "    </tr>\n",
              "    <tr>\n",
              "      <th>1646</th>\n",
              "      <td>S</td>\n",
              "      <td>S</td>\n",
              "      <td>S</td>\n",
              "      <td>tam5</td>\n",
              "    </tr>\n",
              "  </tbody>\n",
              "</table>\n",
              "<p>554 rows × 4 columns</p>\n",
              "</div>"
            ],
            "text/plain": [
              "     frame_material prediction_frame_material prediction_frame_material_lgbm  \\\n",
              "1093              S                         S                              S   \n",
              "1094              S                         S                              S   \n",
              "1095              S                         S                              S   \n",
              "1096              S                         S                              S   \n",
              "1097              S                         S                              S   \n",
              "...             ...                       ...                            ...   \n",
              "1642              S                         S                              S   \n",
              "1643              S                         S                              S   \n",
              "1644              S                         S                              S   \n",
              "1645              S                         S                              S   \n",
              "1646              S                         S                              S   \n",
              "\n",
              "     project  \n",
              "1093    tam5  \n",
              "1094    tam5  \n",
              "1095    tam5  \n",
              "1096    tam5  \n",
              "1097    tam5  \n",
              "...      ...  \n",
              "1642    tam5  \n",
              "1643    tam5  \n",
              "1644    tam5  \n",
              "1645    tam5  \n",
              "1646    tam5  \n",
              "\n",
              "[554 rows x 4 columns]"
            ]
          },
          "execution_count": 33,
          "metadata": {},
          "output_type": "execute_result"
        }
      ],
      "source": [
        "test[['frame_material', 'prediction_frame_material', 'prediction_frame_material_lgbm', 'project']]"
      ]
    },
    {
      "cell_type": "code",
      "execution_count": null,
      "id": "36281fca-0a38-4576-98ba-c5c5d4c5d9b5",
      "metadata": {
        "id": "36281fca-0a38-4576-98ba-c5c5d4c5d9b5",
        "outputId": "03b2a195-1820-499e-9d0a-7c2735d3b6d3"
      },
      "outputs": [
        {
          "data": {
            "text/plain": [
              "S    464\n",
              "A     89\n",
              "H      1\n",
              "Name: prediction_frame_material_lgbm, dtype: int64"
            ]
          },
          "execution_count": 34,
          "metadata": {},
          "output_type": "execute_result"
        }
      ],
      "source": [
        "test['prediction_frame_material_lgbm'].value_counts()"
      ]
    },
    {
      "cell_type": "markdown",
      "id": "7ffdb36e-aa89-46c3-bca3-991b64f70059",
      "metadata": {
        "id": "7ffdb36e-aa89-46c3-bca3-991b64f70059"
      },
      "source": [
        "### Number of mismatches"
      ]
    },
    {
      "cell_type": "code",
      "execution_count": null,
      "id": "408e72d8-0b51-4e32-b4b8-874acc14be90",
      "metadata": {
        "id": "408e72d8-0b51-4e32-b4b8-874acc14be90",
        "outputId": "da78615a-0521-407e-97ee-d967792b2f4b"
      },
      "outputs": [
        {
          "name": "stdout",
          "output_type": "stream",
          "text": [
            "95.85% of predictions are correct, while using train data = 1319\n"
          ]
        }
      ],
      "source": [
        "mismatch_count_tam5 = (test['prediction_frame_material_lgbm'] != test['frame_material']).sum()\n",
        "score_tam5 = round(mismatch_count_tam5/len(test)*100, 2)\n",
        "print(f'{100 - round(mismatch_count_tam5/len(test)*100, 2)}% of predictions are correct, \\\n",
        "while using train data = {len(train)}')"
      ]
    },
    {
      "cell_type": "markdown",
      "id": "0221bc9a-14f6-4103-add6-79942fa1f872",
      "metadata": {
        "id": "0221bc9a-14f6-4103-add6-79942fa1f872"
      },
      "source": [
        "### F1 score"
      ]
    },
    {
      "cell_type": "code",
      "execution_count": null,
      "id": "c16c7a1e-e8e4-47a2-8f99-259dc9259590",
      "metadata": {
        "id": "c16c7a1e-e8e4-47a2-8f99-259dc9259590",
        "outputId": "fc6a5ac9-b8bb-4140-fd94-caa159e44e61"
      },
      "outputs": [
        {
          "data": {
            "text/plain": [
              "0.9584837545126353"
            ]
          },
          "execution_count": 36,
          "metadata": {},
          "output_type": "execute_result"
        }
      ],
      "source": [
        "f1_score(test['frame_material'], test['prediction_frame_material_lgbm'], average='micro')"
      ]
    },
    {
      "cell_type": "markdown",
      "id": "4812f6c5-3a75-4b9a-a5cf-f59875ed415f",
      "metadata": {
        "id": "4812f6c5-3a75-4b9a-a5cf-f59875ed415f"
      },
      "source": [
        "### Confusion matrix"
      ]
    },
    {
      "cell_type": "code",
      "execution_count": null,
      "id": "9a4a17c6-fa22-40f3-b8f6-2eed26933132",
      "metadata": {
        "id": "9a4a17c6-fa22-40f3-b8f6-2eed26933132",
        "outputId": "ffdf0be9-c251-4f18-b8d7-709fc87f237d"
      },
      "outputs": [
        {
          "data": {
            "image/png": "[encoded data removed]",
            "text/plain": [
              "<Figure size 400x400 with 1 Axes>"
            ]
          },
          "metadata": {},
          "output_type": "display_data"
        }
      ],
      "source": [
        "conf_matrix = confusion_matrix(test['frame_material'],\n",
        "                               test['prediction_frame_material_lgbm'])\n",
        "\n",
        "plt.figure(figsize=(4, 4))\n",
        "sns.set(font_scale=1.2)\n",
        "sns.heatmap(conf_matrix, annot=True, fmt=\"d\", cmap=\"Blues\", cbar=False,\n",
        "            xticklabels=[\"A\", \"H\", \"S\"],\n",
        "            yticklabels=[\"A\", \"H\", \"S\"])\n",
        "plt.xlabel(\"Predicted Labels\")\n",
        "plt.ylabel(\"True Labels\")\n",
        "plt.title(\"Confusion Matrix\")\n",
        "plt.show()"
      ]
    },
    {
      "cell_type": "markdown",
      "id": "536799cc-ef00-4cf7-8aad-76f815162c91",
      "metadata": {
        "id": "536799cc-ef00-4cf7-8aad-76f815162c91"
      },
      "source": [
        "# Model_tam5 RandomForestClassifier"
      ]
    },
    {
      "cell_type": "markdown",
      "id": "e2b21c0a-16d4-4bdc-94b2-5417ff621ba3",
      "metadata": {
        "id": "e2b21c0a-16d4-4bdc-94b2-5417ff621ba3"
      },
      "source": [
        "### OneHotEncoder"
      ]
    },
    {
      "cell_type": "code",
      "execution_count": null,
      "id": "69fc5c83-cf3e-4b91-8b6e-904ec3b041a7",
      "metadata": {
        "id": "69fc5c83-cf3e-4b91-8b6e-904ec3b041a7",
        "outputId": "47ae5e3e-ee91-4fdf-ff88-927b32ce47a6"
      },
      "outputs": [
        {
          "name": "stdout",
          "output_type": "stream",
          "text": [
            "['floor', 'door_leaf', 'r_l_opening', 'host_material', 'from_room', 'to_room']\n"
          ]
        }
      ],
      "source": [
        "ohe_features = office_train[X].select_dtypes(include='object').columns.to_list()\n",
        "print(ohe_features)\n",
        "# encoder_ohe = OneHotEncoder(drop='first', handle_unknown='error', sparse=False)\n",
        "# encoder_ohe = OneHotEncoder(drop='first', handle_unknown='ignore', sparse=False)\n",
        "encoder_ohe = OneHotEncoder(handle_unknown='ignore', sparse=False)\n",
        "\n",
        "column_transformer = ColumnTransformer(\n",
        "    transformers=[('encoder', encoder_ohe, ohe_features)],\n",
        "    remainder='passthrough'\n",
        ")\n",
        "\n",
        "column_transformer.fit(office_train[X])\n",
        "X_office_train_ohe = column_transformer.transform(office_train[X])\n",
        "X_test_ohe = column_transformer.transform(test[X])\n",
        "\n",
        "# pd.DataFrame(X_office_train_ohe)"
      ]
    },
    {
      "cell_type": "markdown",
      "id": "4fcd524a-56d9-4e10-806f-dbebfcb1fc1a",
      "metadata": {
        "id": "4fcd524a-56d9-4e10-806f-dbebfcb1fc1a"
      },
      "source": [
        "### Model"
      ]
    },
    {
      "cell_type": "code",
      "execution_count": null,
      "id": "761bff90-84e1-4f0e-b4db-4f114e4fcda8",
      "metadata": {
        "id": "761bff90-84e1-4f0e-b4db-4f114e4fcda8"
      },
      "outputs": [],
      "source": [
        "params_tam5 = {'n_estimators': 150,\n",
        "               'min_samples_split': 10,\n",
        "               'max_features': 'log2',\n",
        "               'max_depth': 15,\n",
        "               'random_state': 42}"
      ]
    },
    {
      "cell_type": "code",
      "execution_count": null,
      "id": "cf868327-6695-4242-aa92-7d3b74daf227",
      "metadata": {
        "id": "cf868327-6695-4242-aa92-7d3b74daf227"
      },
      "outputs": [],
      "source": [
        "model_tam5 = RandomForestClassifier(**params_tam5)"
      ]
    },
    {
      "cell_type": "code",
      "execution_count": null,
      "id": "029e433e-98e9-4262-96b3-a61092eac0cb",
      "metadata": {
        "id": "029e433e-98e9-4262-96b3-a61092eac0cb",
        "outputId": "cdb39840-b231-445a-fbc9-cf486c4854ef"
      },
      "outputs": [
        {
          "data": {
            "text/plain": [
              "RandomForestClassifier(max_depth=15, max_features='log2', min_samples_split=10,\n",
              "                       n_estimators=150, random_state=42)"
            ]
          },
          "execution_count": 41,
          "metadata": {},
          "output_type": "execute_result"
        }
      ],
      "source": [
        "model_tam5.fit(X_office_train_ohe, office_train[y].values.ravel())"
      ]
    },
    {
      "cell_type": "markdown",
      "id": "38fcd81a-873b-405b-953d-c2ef885947e7",
      "metadata": {
        "id": "38fcd81a-873b-405b-953d-c2ef885947e7"
      },
      "source": [
        "### Prediction"
      ]
    },
    {
      "cell_type": "code",
      "execution_count": null,
      "id": "2ecba4dc-8d42-453b-91f5-a797eee9bcfb",
      "metadata": {
        "id": "2ecba4dc-8d42-453b-91f5-a797eee9bcfb"
      },
      "outputs": [],
      "source": [
        "test['prediction_frame_material_rfc'] = model_tam5.predict(X_test_ohe).ravel()"
      ]
    },
    {
      "cell_type": "code",
      "execution_count": null,
      "id": "448e8252-9fc9-4b1c-94e3-19b22b3ded50",
      "metadata": {
        "scrolled": true,
        "id": "448e8252-9fc9-4b1c-94e3-19b22b3ded50"
      },
      "outputs": [],
      "source": [
        "# test"
      ]
    },
    {
      "cell_type": "code",
      "execution_count": null,
      "id": "3f079ea0-b931-4021-961a-3e0bdde42861",
      "metadata": {
        "scrolled": true,
        "id": "3f079ea0-b931-4021-961a-3e0bdde42861",
        "outputId": "d00c36b8-6167-445e-f65d-222db7f9332c"
      },
      "outputs": [
        {
          "data": {
            "text/html": [
              "<div>\n",
              "<style scoped>\n",
              "    .dataframe tbody tr th:only-of-type {\n",
              "        vertical-align: middle;\n",
              "    }\n",
              "\n",
              "    .dataframe tbody tr th {\n",
              "        vertical-align: top;\n",
              "    }\n",
              "\n",
              "    .dataframe thead th {\n",
              "        text-align: right;\n",
              "    }\n",
              "</style>\n",
              "<table border=\"1\" class=\"dataframe\">\n",
              "  <thead>\n",
              "    <tr style=\"text-align: right;\">\n",
              "      <th></th>\n",
              "      <th>frame_material</th>\n",
              "      <th>prediction_frame_material</th>\n",
              "      <th>prediction_frame_material_lgbm</th>\n",
              "      <th>prediction_frame_material_rfc</th>\n",
              "      <th>project</th>\n",
              "    </tr>\n",
              "  </thead>\n",
              "  <tbody>\n",
              "    <tr>\n",
              "      <th>1093</th>\n",
              "      <td>S</td>\n",
              "      <td>S</td>\n",
              "      <td>S</td>\n",
              "      <td>S</td>\n",
              "      <td>tam5</td>\n",
              "    </tr>\n",
              "    <tr>\n",
              "      <th>1094</th>\n",
              "      <td>S</td>\n",
              "      <td>S</td>\n",
              "      <td>S</td>\n",
              "      <td>S</td>\n",
              "      <td>tam5</td>\n",
              "    </tr>\n",
              "    <tr>\n",
              "      <th>1095</th>\n",
              "      <td>S</td>\n",
              "      <td>S</td>\n",
              "      <td>S</td>\n",
              "      <td>S</td>\n",
              "      <td>tam5</td>\n",
              "    </tr>\n",
              "    <tr>\n",
              "      <th>1096</th>\n",
              "      <td>S</td>\n",
              "      <td>S</td>\n",
              "      <td>S</td>\n",
              "      <td>S</td>\n",
              "      <td>tam5</td>\n",
              "    </tr>\n",
              "    <tr>\n",
              "      <th>1097</th>\n",
              "      <td>S</td>\n",
              "      <td>S</td>\n",
              "      <td>S</td>\n",
              "      <td>S</td>\n",
              "      <td>tam5</td>\n",
              "    </tr>\n",
              "    <tr>\n",
              "      <th>...</th>\n",
              "      <td>...</td>\n",
              "      <td>...</td>\n",
              "      <td>...</td>\n",
              "      <td>...</td>\n",
              "      <td>...</td>\n",
              "    </tr>\n",
              "    <tr>\n",
              "      <th>1642</th>\n",
              "      <td>S</td>\n",
              "      <td>S</td>\n",
              "      <td>S</td>\n",
              "      <td>S</td>\n",
              "      <td>tam5</td>\n",
              "    </tr>\n",
              "    <tr>\n",
              "      <th>1643</th>\n",
              "      <td>S</td>\n",
              "      <td>S</td>\n",
              "      <td>S</td>\n",
              "      <td>S</td>\n",
              "      <td>tam5</td>\n",
              "    </tr>\n",
              "    <tr>\n",
              "      <th>1644</th>\n",
              "      <td>S</td>\n",
              "      <td>S</td>\n",
              "      <td>S</td>\n",
              "      <td>S</td>\n",
              "      <td>tam5</td>\n",
              "    </tr>\n",
              "    <tr>\n",
              "      <th>1645</th>\n",
              "      <td>S</td>\n",
              "      <td>S</td>\n",
              "      <td>S</td>\n",
              "      <td>S</td>\n",
              "      <td>tam5</td>\n",
              "    </tr>\n",
              "    <tr>\n",
              "      <th>1646</th>\n",
              "      <td>S</td>\n",
              "      <td>S</td>\n",
              "      <td>S</td>\n",
              "      <td>S</td>\n",
              "      <td>tam5</td>\n",
              "    </tr>\n",
              "  </tbody>\n",
              "</table>\n",
              "<p>554 rows × 5 columns</p>\n",
              "</div>"
            ],
            "text/plain": [
              "     frame_material prediction_frame_material prediction_frame_material_lgbm  \\\n",
              "1093              S                         S                              S   \n",
              "1094              S                         S                              S   \n",
              "1095              S                         S                              S   \n",
              "1096              S                         S                              S   \n",
              "1097              S                         S                              S   \n",
              "...             ...                       ...                            ...   \n",
              "1642              S                         S                              S   \n",
              "1643              S                         S                              S   \n",
              "1644              S                         S                              S   \n",
              "1645              S                         S                              S   \n",
              "1646              S                         S                              S   \n",
              "\n",
              "     prediction_frame_material_rfc project  \n",
              "1093                             S    tam5  \n",
              "1094                             S    tam5  \n",
              "1095                             S    tam5  \n",
              "1096                             S    tam5  \n",
              "1097                             S    tam5  \n",
              "...                            ...     ...  \n",
              "1642                             S    tam5  \n",
              "1643                             S    tam5  \n",
              "1644                             S    tam5  \n",
              "1645                             S    tam5  \n",
              "1646                             S    tam5  \n",
              "\n",
              "[554 rows x 5 columns]"
            ]
          },
          "execution_count": 44,
          "metadata": {},
          "output_type": "execute_result"
        }
      ],
      "source": [
        "test[['frame_material', 'prediction_frame_material', 'prediction_frame_material_lgbm','prediction_frame_material_rfc', 'project']]"
      ]
    },
    {
      "cell_type": "code",
      "execution_count": null,
      "id": "833e140b-0575-456d-b5b3-65d71d5b1932",
      "metadata": {
        "id": "833e140b-0575-456d-b5b3-65d71d5b1932",
        "outputId": "3dd95ca7-fddf-452a-fa05-fddca0bf17ff"
      },
      "outputs": [
        {
          "data": {
            "text/plain": [
              "S    527\n",
              "A     27\n",
              "Name: prediction_frame_material_rfc, dtype: int64"
            ]
          },
          "execution_count": 45,
          "metadata": {},
          "output_type": "execute_result"
        }
      ],
      "source": [
        "test['prediction_frame_material_rfc'].value_counts()"
      ]
    },
    {
      "cell_type": "markdown",
      "id": "a2b3d566-a6f6-4bc9-ae7b-e84572d0859f",
      "metadata": {
        "id": "a2b3d566-a6f6-4bc9-ae7b-e84572d0859f"
      },
      "source": [
        "### Number of mismatches"
      ]
    },
    {
      "cell_type": "code",
      "execution_count": null,
      "id": "e98f38e5-d9c8-4071-9c46-d7b2ad6f0c9f",
      "metadata": {
        "id": "e98f38e5-d9c8-4071-9c46-d7b2ad6f0c9f",
        "outputId": "75ca73a6-8071-41b3-97f7-a574a249c6d0"
      },
      "outputs": [
        {
          "name": "stdout",
          "output_type": "stream",
          "text": [
            "86.82% of predictions are correct, while using train data = 1319\n"
          ]
        }
      ],
      "source": [
        "mismatch_count_tam5 = (test['prediction_frame_material_rfc'] != test['frame_material']).sum()\n",
        "score_tam5 = round(mismatch_count_tam5/len(test)*100, 2)\n",
        "print(f'{100 - round(mismatch_count_tam5/len(test)*100, 2)}% of predictions are correct, \\\n",
        "while using train data = {len(train)}')"
      ]
    },
    {
      "cell_type": "markdown",
      "id": "a64a0d84-c49d-4642-aae5-61f69676b094",
      "metadata": {
        "id": "a64a0d84-c49d-4642-aae5-61f69676b094"
      },
      "source": [
        "### F1 score"
      ]
    },
    {
      "cell_type": "code",
      "execution_count": null,
      "id": "5710dfc3-dc8c-456d-a9f5-924228a9372e",
      "metadata": {
        "id": "5710dfc3-dc8c-456d-a9f5-924228a9372e",
        "outputId": "225fa3d2-70f0-4856-ba35-638cd24dbfa5"
      },
      "outputs": [
        {
          "data": {
            "text/plain": [
              "0.868231046931408"
            ]
          },
          "execution_count": 47,
          "metadata": {},
          "output_type": "execute_result"
        }
      ],
      "source": [
        "f1_score(test['frame_material'], test['prediction_frame_material_rfc'], average='micro')"
      ]
    },
    {
      "cell_type": "markdown",
      "id": "463ac106-4cc4-4784-8793-82c4b25e3693",
      "metadata": {
        "id": "463ac106-4cc4-4784-8793-82c4b25e3693"
      },
      "source": [
        "### Confusion matrix"
      ]
    },
    {
      "cell_type": "code",
      "execution_count": null,
      "id": "4cc088ff-9e25-4594-8037-b0eeb0179011",
      "metadata": {
        "id": "4cc088ff-9e25-4594-8037-b0eeb0179011",
        "outputId": "27da6235-4c85-434e-ae44-a21a6abe7d1f"
      },
      "outputs": [
        {
          "name": "stdout",
          "output_type": "stream",
          "text": [
            "[[ 25  71]\n",
            " [  2 456]]\n"
          ]
        },
        {
          "data": {
            "image/png": "[encoded data removed]",
            "text/plain": [
              "<Figure size 400x400 with 1 Axes>"
            ]
          },
          "metadata": {},
          "output_type": "display_data"
        }
      ],
      "source": [
        "conf_matrix = confusion_matrix(test['frame_material'],\n",
        "                               test['prediction_frame_material_rfc'])\n",
        "print(conf_matrix)\n",
        "plt.figure(figsize=(4, 4))\n",
        "sns.set(font_scale=1.2)\n",
        "sns.heatmap(conf_matrix, annot=True, fmt=\"d\", cmap=\"Blues\", cbar=False,\n",
        "            xticklabels=[\"A\", \"S\"],\n",
        "            yticklabels=[\"A\", \"S\"])\n",
        "plt.xlabel(\"Predicted Labels\")\n",
        "plt.ylabel(\"True Labels\")\n",
        "plt.title(\"Confusion Matrix\")\n",
        "plt.show()"
      ]
    },
    {
      "cell_type": "markdown",
      "id": "3d9aa214-e4bd-42e1-8c26-a2dfeeab62d2",
      "metadata": {
        "id": "3d9aa214-e4bd-42e1-8c26-a2dfeeab62d2"
      },
      "source": [
        "# Compare 3 results"
      ]
    },
    {
      "cell_type": "code",
      "execution_count": null,
      "id": "0e597f48-77dc-498d-bd6f-949a164fb048",
      "metadata": {
        "id": "0e597f48-77dc-498d-bd6f-949a164fb048",
        "outputId": "c4b781ef-e573-4ad6-c3b2-231a1d434279"
      },
      "outputs": [
        {
          "data": {
            "text/html": [
              "<div>\n",
              "<style scoped>\n",
              "    .dataframe tbody tr th:only-of-type {\n",
              "        vertical-align: middle;\n",
              "    }\n",
              "\n",
              "    .dataframe tbody tr th {\n",
              "        vertical-align: top;\n",
              "    }\n",
              "\n",
              "    .dataframe thead th {\n",
              "        text-align: right;\n",
              "    }\n",
              "</style>\n",
              "<table border=\"1\" class=\"dataframe\">\n",
              "  <thead>\n",
              "    <tr style=\"text-align: right;\">\n",
              "      <th></th>\n",
              "      <th>frame_material</th>\n",
              "      <th>prediction_frame_material</th>\n",
              "      <th>prediction_frame_material_lgbm</th>\n",
              "      <th>prediction_frame_material_rfc</th>\n",
              "      <th>project</th>\n",
              "    </tr>\n",
              "  </thead>\n",
              "  <tbody>\n",
              "    <tr>\n",
              "      <th>1093</th>\n",
              "      <td>S</td>\n",
              "      <td>S</td>\n",
              "      <td>S</td>\n",
              "      <td>S</td>\n",
              "      <td>tam5</td>\n",
              "    </tr>\n",
              "    <tr>\n",
              "      <th>1094</th>\n",
              "      <td>S</td>\n",
              "      <td>S</td>\n",
              "      <td>S</td>\n",
              "      <td>S</td>\n",
              "      <td>tam5</td>\n",
              "    </tr>\n",
              "    <tr>\n",
              "      <th>1095</th>\n",
              "      <td>S</td>\n",
              "      <td>S</td>\n",
              "      <td>S</td>\n",
              "      <td>S</td>\n",
              "      <td>tam5</td>\n",
              "    </tr>\n",
              "    <tr>\n",
              "      <th>1096</th>\n",
              "      <td>S</td>\n",
              "      <td>S</td>\n",
              "      <td>S</td>\n",
              "      <td>S</td>\n",
              "      <td>tam5</td>\n",
              "    </tr>\n",
              "    <tr>\n",
              "      <th>1097</th>\n",
              "      <td>S</td>\n",
              "      <td>S</td>\n",
              "      <td>S</td>\n",
              "      <td>S</td>\n",
              "      <td>tam5</td>\n",
              "    </tr>\n",
              "    <tr>\n",
              "      <th>...</th>\n",
              "      <td>...</td>\n",
              "      <td>...</td>\n",
              "      <td>...</td>\n",
              "      <td>...</td>\n",
              "      <td>...</td>\n",
              "    </tr>\n",
              "    <tr>\n",
              "      <th>1642</th>\n",
              "      <td>S</td>\n",
              "      <td>S</td>\n",
              "      <td>S</td>\n",
              "      <td>S</td>\n",
              "      <td>tam5</td>\n",
              "    </tr>\n",
              "    <tr>\n",
              "      <th>1643</th>\n",
              "      <td>S</td>\n",
              "      <td>S</td>\n",
              "      <td>S</td>\n",
              "      <td>S</td>\n",
              "      <td>tam5</td>\n",
              "    </tr>\n",
              "    <tr>\n",
              "      <th>1644</th>\n",
              "      <td>S</td>\n",
              "      <td>S</td>\n",
              "      <td>S</td>\n",
              "      <td>S</td>\n",
              "      <td>tam5</td>\n",
              "    </tr>\n",
              "    <tr>\n",
              "      <th>1645</th>\n",
              "      <td>S</td>\n",
              "      <td>S</td>\n",
              "      <td>S</td>\n",
              "      <td>S</td>\n",
              "      <td>tam5</td>\n",
              "    </tr>\n",
              "    <tr>\n",
              "      <th>1646</th>\n",
              "      <td>S</td>\n",
              "      <td>S</td>\n",
              "      <td>S</td>\n",
              "      <td>S</td>\n",
              "      <td>tam5</td>\n",
              "    </tr>\n",
              "  </tbody>\n",
              "</table>\n",
              "<p>554 rows × 5 columns</p>\n",
              "</div>"
            ],
            "text/plain": [
              "     frame_material prediction_frame_material prediction_frame_material_lgbm  \\\n",
              "1093              S                         S                              S   \n",
              "1094              S                         S                              S   \n",
              "1095              S                         S                              S   \n",
              "1096              S                         S                              S   \n",
              "1097              S                         S                              S   \n",
              "...             ...                       ...                            ...   \n",
              "1642              S                         S                              S   \n",
              "1643              S                         S                              S   \n",
              "1644              S                         S                              S   \n",
              "1645              S                         S                              S   \n",
              "1646              S                         S                              S   \n",
              "\n",
              "     prediction_frame_material_rfc project  \n",
              "1093                             S    tam5  \n",
              "1094                             S    tam5  \n",
              "1095                             S    tam5  \n",
              "1096                             S    tam5  \n",
              "1097                             S    tam5  \n",
              "...                            ...     ...  \n",
              "1642                             S    tam5  \n",
              "1643                             S    tam5  \n",
              "1644                             S    tam5  \n",
              "1645                             S    tam5  \n",
              "1646                             S    tam5  \n",
              "\n",
              "[554 rows x 5 columns]"
            ]
          },
          "execution_count": 49,
          "metadata": {},
          "output_type": "execute_result"
        }
      ],
      "source": [
        "test[['frame_material', 'prediction_frame_material', 'prediction_frame_material_lgbm','prediction_frame_material_rfc', 'project']]"
      ]
    },
    {
      "cell_type": "code",
      "execution_count": null,
      "id": "5ae9143f-506f-4178-bb48-c1fd562ded81",
      "metadata": {
        "id": "5ae9143f-506f-4178-bb48-c1fd562ded81",
        "outputId": "8c000a81-9b3b-45fd-9c09-25c8d31c7068"
      },
      "outputs": [
        {
          "data": {
            "text/html": [
              "<div>\n",
              "<style scoped>\n",
              "    .dataframe tbody tr th:only-of-type {\n",
              "        vertical-align: middle;\n",
              "    }\n",
              "\n",
              "    .dataframe tbody tr th {\n",
              "        vertical-align: top;\n",
              "    }\n",
              "\n",
              "    .dataframe thead th {\n",
              "        text-align: right;\n",
              "    }\n",
              "</style>\n",
              "<table border=\"1\" class=\"dataframe\">\n",
              "  <thead>\n",
              "    <tr style=\"text-align: right;\">\n",
              "      <th></th>\n",
              "      <th>Unnamed: 0</th>\n",
              "      <th>floor</th>\n",
              "      <th>door_type</th>\n",
              "      <th>door_number</th>\n",
              "      <th>door_leaf</th>\n",
              "      <th>width</th>\n",
              "      <th>height</th>\n",
              "      <th>r_l_opening</th>\n",
              "      <th>is_escape</th>\n",
              "      <th>host_width</th>\n",
              "      <th>...</th>\n",
              "      <th>to_room</th>\n",
              "      <th>from_room_area</th>\n",
              "      <th>to_room_area</th>\n",
              "      <th>frame_type</th>\n",
              "      <th>frame_material</th>\n",
              "      <th>frame_finish</th>\n",
              "      <th>project</th>\n",
              "      <th>prediction_frame_material</th>\n",
              "      <th>prediction_frame_material_lgbm</th>\n",
              "      <th>prediction_frame_material_rfc</th>\n",
              "    </tr>\n",
              "  </thead>\n",
              "  <tbody>\n",
              "    <tr>\n",
              "      <th>1093</th>\n",
              "      <td>1547</td>\n",
              "      <td>2_UG</td>\n",
              "      <td>unknown</td>\n",
              "      <td>80-437.1</td>\n",
              "      <td>1FL</td>\n",
              "      <td>1.010</td>\n",
              "      <td>2.135</td>\n",
              "      <td>L</td>\n",
              "      <td>unknown</td>\n",
              "      <td>0.250</td>\n",
              "      <td>...</td>\n",
              "      <td>Lager</td>\n",
              "      <td>10.28</td>\n",
              "      <td>10.88</td>\n",
              "      <td>UZ</td>\n",
              "      <td>S</td>\n",
              "      <td>unknown</td>\n",
              "      <td>tam5</td>\n",
              "      <td>S</td>\n",
              "      <td>S</td>\n",
              "      <td>S</td>\n",
              "    </tr>\n",
              "    <tr>\n",
              "      <th>1094</th>\n",
              "      <td>1554</td>\n",
              "      <td>2_UG</td>\n",
              "      <td>unknown</td>\n",
              "      <td>80-461.1</td>\n",
              "      <td>2FL</td>\n",
              "      <td>2.010</td>\n",
              "      <td>2.010</td>\n",
              "      <td>R</td>\n",
              "      <td>unknown</td>\n",
              "      <td>0.125</td>\n",
              "      <td>...</td>\n",
              "      <td>Lager</td>\n",
              "      <td>41.31</td>\n",
              "      <td>90.00</td>\n",
              "      <td>UZ</td>\n",
              "      <td>S</td>\n",
              "      <td>unknown</td>\n",
              "      <td>tam5</td>\n",
              "      <td>S</td>\n",
              "      <td>S</td>\n",
              "      <td>S</td>\n",
              "    </tr>\n",
              "    <tr>\n",
              "      <th>1095</th>\n",
              "      <td>1555</td>\n",
              "      <td>2_UG</td>\n",
              "      <td>unknown</td>\n",
              "      <td>80-510.1</td>\n",
              "      <td>1FL</td>\n",
              "      <td>1.135</td>\n",
              "      <td>2.135</td>\n",
              "      <td>R</td>\n",
              "      <td>unknown</td>\n",
              "      <td>0.250</td>\n",
              "      <td>...</td>\n",
              "      <td>TRH</td>\n",
              "      <td>9.48</td>\n",
              "      <td>26.19</td>\n",
              "      <td>UZ</td>\n",
              "      <td>S</td>\n",
              "      <td>unknown</td>\n",
              "      <td>tam5</td>\n",
              "      <td>S</td>\n",
              "      <td>S</td>\n",
              "      <td>S</td>\n",
              "    </tr>\n",
              "    <tr>\n",
              "      <th>1096</th>\n",
              "      <td>1556</td>\n",
              "      <td>2_UG</td>\n",
              "      <td>unknown</td>\n",
              "      <td>80-511.1</td>\n",
              "      <td>1FL</td>\n",
              "      <td>1.135</td>\n",
              "      <td>2.135</td>\n",
              "      <td>L</td>\n",
              "      <td>unknown</td>\n",
              "      <td>0.250</td>\n",
              "      <td>...</td>\n",
              "      <td>Schleuse</td>\n",
              "      <td>1731.49</td>\n",
              "      <td>9.48</td>\n",
              "      <td>EZ</td>\n",
              "      <td>S</td>\n",
              "      <td>unknown</td>\n",
              "      <td>tam5</td>\n",
              "      <td>S</td>\n",
              "      <td>S</td>\n",
              "      <td>S</td>\n",
              "    </tr>\n",
              "    <tr>\n",
              "      <th>1097</th>\n",
              "      <td>1557</td>\n",
              "      <td>2_UG</td>\n",
              "      <td>unknown</td>\n",
              "      <td>80-520.1</td>\n",
              "      <td>1FL</td>\n",
              "      <td>1.135</td>\n",
              "      <td>2.135</td>\n",
              "      <td>R</td>\n",
              "      <td>unknown</td>\n",
              "      <td>0.250</td>\n",
              "      <td>...</td>\n",
              "      <td>TRH</td>\n",
              "      <td>11.07</td>\n",
              "      <td>33.02</td>\n",
              "      <td>UZ</td>\n",
              "      <td>S</td>\n",
              "      <td>unknown</td>\n",
              "      <td>tam5</td>\n",
              "      <td>S</td>\n",
              "      <td>S</td>\n",
              "      <td>S</td>\n",
              "    </tr>\n",
              "    <tr>\n",
              "      <th>...</th>\n",
              "      <td>...</td>\n",
              "      <td>...</td>\n",
              "      <td>...</td>\n",
              "      <td>...</td>\n",
              "      <td>...</td>\n",
              "      <td>...</td>\n",
              "      <td>...</td>\n",
              "      <td>...</td>\n",
              "      <td>...</td>\n",
              "      <td>...</td>\n",
              "      <td>...</td>\n",
              "      <td>...</td>\n",
              "      <td>...</td>\n",
              "      <td>...</td>\n",
              "      <td>...</td>\n",
              "      <td>...</td>\n",
              "      <td>...</td>\n",
              "      <td>...</td>\n",
              "      <td>...</td>\n",
              "      <td>...</td>\n",
              "      <td>...</td>\n",
              "    </tr>\n",
              "    <tr>\n",
              "      <th>1642</th>\n",
              "      <td>2126</td>\n",
              "      <td>AT</td>\n",
              "      <td>unknown</td>\n",
              "      <td>150-903.2</td>\n",
              "      <td>1FL</td>\n",
              "      <td>1.020</td>\n",
              "      <td>2.090</td>\n",
              "      <td>R</td>\n",
              "      <td>unknown</td>\n",
              "      <td>0.050</td>\n",
              "      <td>...</td>\n",
              "      <td>Technik</td>\n",
              "      <td>0.00</td>\n",
              "      <td>172.02</td>\n",
              "      <td>EZ</td>\n",
              "      <td>S</td>\n",
              "      <td>unknown</td>\n",
              "      <td>tam5</td>\n",
              "      <td>S</td>\n",
              "      <td>S</td>\n",
              "      <td>S</td>\n",
              "    </tr>\n",
              "    <tr>\n",
              "      <th>1643</th>\n",
              "      <td>2127</td>\n",
              "      <td>AT</td>\n",
              "      <td>unknown</td>\n",
              "      <td>150-904.1</td>\n",
              "      <td>1FL</td>\n",
              "      <td>1.020</td>\n",
              "      <td>2.090</td>\n",
              "      <td>R</td>\n",
              "      <td>unknown</td>\n",
              "      <td>0.050</td>\n",
              "      <td>...</td>\n",
              "      <td>Technik</td>\n",
              "      <td>0.00</td>\n",
              "      <td>387.91</td>\n",
              "      <td>EZ</td>\n",
              "      <td>S</td>\n",
              "      <td>unknown</td>\n",
              "      <td>tam5</td>\n",
              "      <td>S</td>\n",
              "      <td>S</td>\n",
              "      <td>S</td>\n",
              "    </tr>\n",
              "    <tr>\n",
              "      <th>1644</th>\n",
              "      <td>2128</td>\n",
              "      <td>AT</td>\n",
              "      <td>unknown</td>\n",
              "      <td>150-904.3</td>\n",
              "      <td>1FL</td>\n",
              "      <td>1.020</td>\n",
              "      <td>2.090</td>\n",
              "      <td>R</td>\n",
              "      <td>unknown</td>\n",
              "      <td>0.050</td>\n",
              "      <td>...</td>\n",
              "      <td>Technik</td>\n",
              "      <td>0.00</td>\n",
              "      <td>387.91</td>\n",
              "      <td>EZ</td>\n",
              "      <td>S</td>\n",
              "      <td>unknown</td>\n",
              "      <td>tam5</td>\n",
              "      <td>S</td>\n",
              "      <td>S</td>\n",
              "      <td>S</td>\n",
              "    </tr>\n",
              "    <tr>\n",
              "      <th>1645</th>\n",
              "      <td>2129</td>\n",
              "      <td>AT</td>\n",
              "      <td>unknown</td>\n",
              "      <td>150-905.1</td>\n",
              "      <td>1FL</td>\n",
              "      <td>1.020</td>\n",
              "      <td>2.090</td>\n",
              "      <td>L</td>\n",
              "      <td>unknown</td>\n",
              "      <td>0.050</td>\n",
              "      <td>...</td>\n",
              "      <td>Technik</td>\n",
              "      <td>0.00</td>\n",
              "      <td>239.73</td>\n",
              "      <td>EZ</td>\n",
              "      <td>S</td>\n",
              "      <td>unknown</td>\n",
              "      <td>tam5</td>\n",
              "      <td>S</td>\n",
              "      <td>S</td>\n",
              "      <td>S</td>\n",
              "    </tr>\n",
              "    <tr>\n",
              "      <th>1646</th>\n",
              "      <td>2130</td>\n",
              "      <td>AT</td>\n",
              "      <td>unknown</td>\n",
              "      <td>150-905.2</td>\n",
              "      <td>1FL</td>\n",
              "      <td>1.020</td>\n",
              "      <td>2.090</td>\n",
              "      <td>R</td>\n",
              "      <td>unknown</td>\n",
              "      <td>0.050</td>\n",
              "      <td>...</td>\n",
              "      <td>Technik</td>\n",
              "      <td>0.00</td>\n",
              "      <td>239.73</td>\n",
              "      <td>EZ</td>\n",
              "      <td>S</td>\n",
              "      <td>unknown</td>\n",
              "      <td>tam5</td>\n",
              "      <td>S</td>\n",
              "      <td>S</td>\n",
              "      <td>S</td>\n",
              "    </tr>\n",
              "  </tbody>\n",
              "</table>\n",
              "<p>472 rows × 22 columns</p>\n",
              "</div>"
            ],
            "text/plain": [
              "      Unnamed: 0 floor door_type door_number door_leaf  width  height  \\\n",
              "1093        1547  2_UG   unknown    80-437.1       1FL  1.010   2.135   \n",
              "1094        1554  2_UG   unknown    80-461.1       2FL  2.010   2.010   \n",
              "1095        1555  2_UG   unknown    80-510.1       1FL  1.135   2.135   \n",
              "1096        1556  2_UG   unknown    80-511.1       1FL  1.135   2.135   \n",
              "1097        1557  2_UG   unknown    80-520.1       1FL  1.135   2.135   \n",
              "...          ...   ...       ...         ...       ...    ...     ...   \n",
              "1642        2126    AT   unknown   150-903.2       1FL  1.020   2.090   \n",
              "1643        2127    AT   unknown   150-904.1       1FL  1.020   2.090   \n",
              "1644        2128    AT   unknown   150-904.3       1FL  1.020   2.090   \n",
              "1645        2129    AT   unknown   150-905.1       1FL  1.020   2.090   \n",
              "1646        2130    AT   unknown   150-905.2       1FL  1.020   2.090   \n",
              "\n",
              "     r_l_opening is_escape  host_width  ...   to_room from_room_area  \\\n",
              "1093           L   unknown       0.250  ...     Lager          10.28   \n",
              "1094           R   unknown       0.125  ...     Lager          41.31   \n",
              "1095           R   unknown       0.250  ...       TRH           9.48   \n",
              "1096           L   unknown       0.250  ...  Schleuse        1731.49   \n",
              "1097           R   unknown       0.250  ...       TRH          11.07   \n",
              "...          ...       ...         ...  ...       ...            ...   \n",
              "1642           R   unknown       0.050  ...   Technik           0.00   \n",
              "1643           R   unknown       0.050  ...   Technik           0.00   \n",
              "1644           R   unknown       0.050  ...   Technik           0.00   \n",
              "1645           L   unknown       0.050  ...   Technik           0.00   \n",
              "1646           R   unknown       0.050  ...   Technik           0.00   \n",
              "\n",
              "     to_room_area  frame_type  frame_material frame_finish project  \\\n",
              "1093        10.88          UZ               S      unknown    tam5   \n",
              "1094        90.00          UZ               S      unknown    tam5   \n",
              "1095        26.19          UZ               S      unknown    tam5   \n",
              "1096         9.48          EZ               S      unknown    tam5   \n",
              "1097        33.02          UZ               S      unknown    tam5   \n",
              "...           ...         ...             ...          ...     ...   \n",
              "1642       172.02          EZ               S      unknown    tam5   \n",
              "1643       387.91          EZ               S      unknown    tam5   \n",
              "1644       387.91          EZ               S      unknown    tam5   \n",
              "1645       239.73          EZ               S      unknown    tam5   \n",
              "1646       239.73          EZ               S      unknown    tam5   \n",
              "\n",
              "     prediction_frame_material prediction_frame_material_lgbm  \\\n",
              "1093                         S                              S   \n",
              "1094                         S                              S   \n",
              "1095                         S                              S   \n",
              "1096                         S                              S   \n",
              "1097                         S                              S   \n",
              "...                        ...                            ...   \n",
              "1642                         S                              S   \n",
              "1643                         S                              S   \n",
              "1644                         S                              S   \n",
              "1645                         S                              S   \n",
              "1646                         S                              S   \n",
              "\n",
              "     prediction_frame_material_rfc  \n",
              "1093                             S  \n",
              "1094                             S  \n",
              "1095                             S  \n",
              "1096                             S  \n",
              "1097                             S  \n",
              "...                            ...  \n",
              "1642                             S  \n",
              "1643                             S  \n",
              "1644                             S  \n",
              "1645                             S  \n",
              "1646                             S  \n",
              "\n",
              "[472 rows x 22 columns]"
            ]
          },
          "execution_count": 50,
          "metadata": {},
          "output_type": "execute_result"
        }
      ],
      "source": [
        "test[\n",
        "    (test['prediction_frame_material'] == test['prediction_frame_material_lgbm']) &\n",
        "    (test['prediction_frame_material'] == test['prediction_frame_material_rfc'])\n",
        "    ]"
      ]
    },
    {
      "cell_type": "code",
      "execution_count": null,
      "id": "39879019-b4db-4f8e-9f98-e9b74f916e88",
      "metadata": {
        "id": "39879019-b4db-4f8e-9f98-e9b74f916e88"
      },
      "outputs": [],
      "source": [
        "pd.set_option('display.max_rows', None)"
      ]
    },
    {
      "cell_type": "code",
      "execution_count": null,
      "id": "1667a0dd-16cf-4f08-82fc-9e05f4c12cda",
      "metadata": {
        "id": "1667a0dd-16cf-4f08-82fc-9e05f4c12cda",
        "outputId": "f8cc43aa-90ea-411f-8916-5fc42c65113c"
      },
      "outputs": [
        {
          "data": {
            "text/html": [
              "<div>\n",
              "<style scoped>\n",
              "    .dataframe tbody tr th:only-of-type {\n",
              "        vertical-align: middle;\n",
              "    }\n",
              "\n",
              "    .dataframe tbody tr th {\n",
              "        vertical-align: top;\n",
              "    }\n",
              "\n",
              "    .dataframe thead th {\n",
              "        text-align: right;\n",
              "    }\n",
              "</style>\n",
              "<table border=\"1\" class=\"dataframe\">\n",
              "  <thead>\n",
              "    <tr style=\"text-align: right;\">\n",
              "      <th></th>\n",
              "      <th>Unnamed: 0</th>\n",
              "      <th>floor</th>\n",
              "      <th>door_type</th>\n",
              "      <th>door_number</th>\n",
              "      <th>door_leaf</th>\n",
              "      <th>width</th>\n",
              "      <th>height</th>\n",
              "      <th>r_l_opening</th>\n",
              "      <th>is_escape</th>\n",
              "      <th>host_width</th>\n",
              "      <th>...</th>\n",
              "      <th>to_room</th>\n",
              "      <th>from_room_area</th>\n",
              "      <th>to_room_area</th>\n",
              "      <th>frame_type</th>\n",
              "      <th>frame_material</th>\n",
              "      <th>frame_finish</th>\n",
              "      <th>project</th>\n",
              "      <th>prediction_frame_material</th>\n",
              "      <th>prediction_frame_material_lgbm</th>\n",
              "      <th>prediction_frame_material_rfc</th>\n",
              "    </tr>\n",
              "  </thead>\n",
              "  <tbody>\n",
              "    <tr>\n",
              "      <th>1294</th>\n",
              "      <td>1778</td>\n",
              "      <td>EG</td>\n",
              "      <td>unknown</td>\n",
              "      <td>101-500.2</td>\n",
              "      <td>1FL</td>\n",
              "      <td>1.760</td>\n",
              "      <td>2.76</td>\n",
              "      <td>L</td>\n",
              "      <td>unknown</td>\n",
              "      <td>0.155</td>\n",
              "      <td>...</td>\n",
              "      <td>Foyer</td>\n",
              "      <td>126.66</td>\n",
              "      <td>161.33</td>\n",
              "      <td>-</td>\n",
              "      <td>A</td>\n",
              "      <td>unknown</td>\n",
              "      <td>tam5</td>\n",
              "      <td>S</td>\n",
              "      <td>S</td>\n",
              "      <td>S</td>\n",
              "    </tr>\n",
              "    <tr>\n",
              "      <th>1295</th>\n",
              "      <td>1779</td>\n",
              "      <td>EG</td>\n",
              "      <td>unknown</td>\n",
              "      <td>101-500.3</td>\n",
              "      <td>1FL</td>\n",
              "      <td>1.760</td>\n",
              "      <td>2.76</td>\n",
              "      <td>R</td>\n",
              "      <td>unknown</td>\n",
              "      <td>0.155</td>\n",
              "      <td>...</td>\n",
              "      <td>Foyer</td>\n",
              "      <td>0.00</td>\n",
              "      <td>161.33</td>\n",
              "      <td>-</td>\n",
              "      <td>A</td>\n",
              "      <td>unknown</td>\n",
              "      <td>tam5</td>\n",
              "      <td>S</td>\n",
              "      <td>S</td>\n",
              "      <td>S</td>\n",
              "    </tr>\n",
              "    <tr>\n",
              "      <th>1356</th>\n",
              "      <td>1840</td>\n",
              "      <td>1_OG</td>\n",
              "      <td>unknown</td>\n",
              "      <td>110-523.1</td>\n",
              "      <td>1FL</td>\n",
              "      <td>1.385</td>\n",
              "      <td>2.26</td>\n",
              "      <td>L</td>\n",
              "      <td>unknown</td>\n",
              "      <td>0.176</td>\n",
              "      <td>...</td>\n",
              "      <td>Büro</td>\n",
              "      <td>27.79</td>\n",
              "      <td>73.80</td>\n",
              "      <td>-</td>\n",
              "      <td>A</td>\n",
              "      <td>unknown</td>\n",
              "      <td>tam5</td>\n",
              "      <td>S</td>\n",
              "      <td>S</td>\n",
              "      <td>S</td>\n",
              "    </tr>\n",
              "    <tr>\n",
              "      <th>1502</th>\n",
              "      <td>1986</td>\n",
              "      <td>3_OG</td>\n",
              "      <td>unknown</td>\n",
              "      <td>130-522.1</td>\n",
              "      <td>1FL</td>\n",
              "      <td>1.385</td>\n",
              "      <td>2.26</td>\n",
              "      <td>L</td>\n",
              "      <td>unknown</td>\n",
              "      <td>0.176</td>\n",
              "      <td>...</td>\n",
              "      <td>Büro</td>\n",
              "      <td>27.72</td>\n",
              "      <td>31.86</td>\n",
              "      <td>-</td>\n",
              "      <td>A</td>\n",
              "      <td>unknown</td>\n",
              "      <td>tam5</td>\n",
              "      <td>S</td>\n",
              "      <td>S</td>\n",
              "      <td>S</td>\n",
              "    </tr>\n",
              "  </tbody>\n",
              "</table>\n",
              "<p>4 rows × 22 columns</p>\n",
              "</div>"
            ],
            "text/plain": [
              "      Unnamed: 0 floor door_type door_number door_leaf  width  height  \\\n",
              "1294        1778    EG   unknown   101-500.2       1FL  1.760    2.76   \n",
              "1295        1779    EG   unknown   101-500.3       1FL  1.760    2.76   \n",
              "1356        1840  1_OG   unknown   110-523.1       1FL  1.385    2.26   \n",
              "1502        1986  3_OG   unknown   130-522.1       1FL  1.385    2.26   \n",
              "\n",
              "     r_l_opening is_escape  host_width  ... to_room from_room_area  \\\n",
              "1294           L   unknown       0.155  ...   Foyer         126.66   \n",
              "1295           R   unknown       0.155  ...   Foyer           0.00   \n",
              "1356           L   unknown       0.176  ...    Büro          27.79   \n",
              "1502           L   unknown       0.176  ...    Büro          27.72   \n",
              "\n",
              "     to_room_area  frame_type  frame_material frame_finish project  \\\n",
              "1294       161.33           -               A      unknown    tam5   \n",
              "1295       161.33           -               A      unknown    tam5   \n",
              "1356        73.80           -               A      unknown    tam5   \n",
              "1502        31.86           -               A      unknown    tam5   \n",
              "\n",
              "     prediction_frame_material prediction_frame_material_lgbm  \\\n",
              "1294                         S                              S   \n",
              "1295                         S                              S   \n",
              "1356                         S                              S   \n",
              "1502                         S                              S   \n",
              "\n",
              "     prediction_frame_material_rfc  \n",
              "1294                             S  \n",
              "1295                             S  \n",
              "1356                             S  \n",
              "1502                             S  \n",
              "\n",
              "[4 rows x 22 columns]"
            ]
          },
          "execution_count": 52,
          "metadata": {},
          "output_type": "execute_result"
        }
      ],
      "source": [
        "test[\n",
        "    (test['prediction_frame_material'] == test['prediction_frame_material_lgbm']) &\n",
        "    (test['prediction_frame_material'] == test['prediction_frame_material_rfc']) &\n",
        "    (test['frame_material'] != test['prediction_frame_material_rfc'])\n",
        "    ]"
      ]
    },
    {
      "cell_type": "markdown",
      "id": "f960634e-8855-42f7-83ab-66c72860f15a",
      "metadata": {
        "id": "f960634e-8855-42f7-83ab-66c72860f15a"
      },
      "source": [
        "# Results"
      ]
    },
    {
      "cell_type": "code",
      "execution_count": null,
      "id": "83553db0-27b0-4064-873c-abefbae69709",
      "metadata": {
        "id": "83553db0-27b0-4064-873c-abefbae69709",
        "outputId": "7c5c154e-91b4-4b5d-e153-14cdc21bc67c"
      },
      "outputs": [
        {
          "name": "stdout",
          "output_type": "stream",
          "text": [
            "uncorrect predictions by 3 models = 4\n",
            "total mismatches by 3 models = 86\n",
            "84.48% of predictions are correct, from total test data of size 554\n",
            "train data = 1649, where train = 1319, val = 330\n"
          ]
        }
      ],
      "source": [
        "uncorrect_prediction_by_3_models = ((test['prediction_frame_material'] != test['frame_material']) &\n",
        "                            (test['prediction_frame_material_lgbm'] != test['frame_material']) &\n",
        "                            (test['prediction_frame_material_rfc'] != test['frame_material'])).sum()\n",
        "\n",
        "print(f'uncorrect predictions by 3 models = {uncorrect_prediction_by_3_models}')\n",
        "\n",
        "mismatch_by_three_models = ((test['prediction_frame_material'] != test['frame_material']) |\n",
        "                            (test['prediction_frame_material_lgbm'] != test['frame_material']) |\n",
        "                            (test['prediction_frame_material_rfc'] != test['frame_material'])).sum()\n",
        "\n",
        "print(f'total mismatches by 3 models = {mismatch_by_three_models}')\n",
        "\n",
        "score_tam5_by_three_models = round(mismatch_by_three_models / len(test) * 100, 2)\n",
        "print(f'{100 - score_tam5_by_three_models}% of predictions are correct, \\\n",
        "from total test data of size {len(test)}')\n",
        "print(f'train data = {len(office_train)}, where train = {len(train)}, val = {len(val)}')"
      ]
    }
  ],
  "metadata": {
    "kernelspec": {
      "display_name": "Python 3 (ipykernel)",
      "language": "python",
      "name": "python3"
    },
    "language_info": {
      "codemirror_mode": {
        "name": "ipython",
        "version": 3
      },
      "file_extension": ".py",
      "mimetype": "text/x-python",
      "name": "python",
      "nbconvert_exporter": "python",
      "pygments_lexer": "ipython3",
      "version": "3.9.18"
    },
    "colab": {
      "provenance": []
    }
  },
  "nbformat": 4,
  "nbformat_minor": 5
}